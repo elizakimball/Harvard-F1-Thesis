{
 "cells": [
  {
   "cell_type": "code",
   "execution_count": 1,
   "metadata": {},
   "outputs": [],
   "source": [
    "import numpy as np\n",
    "import pandas as pd\n",
    "import seaborn as sns\n",
    "import matplotlib.pyplot as plt\n"
   ]
  },
  {
   "cell_type": "code",
   "execution_count": 8,
   "metadata": {},
   "outputs": [
    {
     "name": "stdout",
     "output_type": "stream",
     "text": [
      "0.6881481202156944\n",
      "0.0\n"
     ]
    }
   ],
   "source": [
    "# 1950-2024 kaggle\n",
    "results = pd.read_csv('/Users/elizakimball/Desktop/Harvard Thesis/kaggleF1/results.csv')\n",
    "problem_rows = results[results['rank'] == '\\\\N']\n",
    "percent = len(problem_rows) / len(results)\n",
    "print(percent)\n",
    "\n",
    "#1950-2017 kaggle\n",
    "results = pd.read_csv('/Users/elizakimball/Desktop/Harvard Thesis/kaggle1950-2017/results.csv')\n",
    "problem_rows = results[results['rank'] == '\\\\N']\n",
    "percent = len(problem_rows) / len(results)\n",
    "print(percent)\n",
    "\n",
    "\n",
    "results = pd.read_csv('/Users/elizakimball/Desktop/Harvard Thesis/kaggle1950-2017/results.csv')\n",
    "problem_rows = results[results['rank'] == '\\\\N']\n",
    "\n",
    "\n",
    "\n",
    "results = pd.read_csv('/Users/elizakimball/Desktop/Harvard Thesis/kaggle1950-2017/results.csv')\n",
    "problem_rows = results[results['rank'] == '\\\\N']\n",
    "\n"
   ]
  }
 ],
 "metadata": {
  "kernelspec": {
   "display_name": "Python 3",
   "language": "python",
   "name": "python3"
  },
  "language_info": {
   "codemirror_mode": {
    "name": "ipython",
    "version": 3
   },
   "file_extension": ".py",
   "mimetype": "text/x-python",
   "name": "python",
   "nbconvert_exporter": "python",
   "pygments_lexer": "ipython3",
   "version": "3.11.7"
  }
 },
 "nbformat": 4,
 "nbformat_minor": 2
}
